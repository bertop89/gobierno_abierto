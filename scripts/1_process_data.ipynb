{
 "cells": [
  {
   "cell_type": "code",
   "execution_count": 1,
   "id": "971f757f",
   "metadata": {},
   "outputs": [],
   "source": [
    "import pandas as pd\n",
    "import glob\n",
    "import json"
   ]
  },
  {
   "cell_type": "code",
   "execution_count": 2,
   "id": "5370beba",
   "metadata": {},
   "outputs": [],
   "source": [
    "json_folder = glob.glob(\"data/raw_json/*/*.json\")"
   ]
  },
  {
   "cell_type": "code",
   "execution_count": 3,
   "id": "03535a06",
   "metadata": {},
   "outputs": [],
   "source": [
    "sesiones = []\n",
    "votaciones = []\n",
    "grupos_parlamentarios = {}\n",
    "diputados = {}\n",
    "votos = []\n",
    "grupo_id_counter = 0\n",
    "diputado_id_counter = 0"
   ]
  },
  {
   "cell_type": "code",
   "execution_count": 4,
   "id": "a80826ae",
   "metadata": {},
   "outputs": [
    {
     "name": "stdout",
     "output_type": "stream",
     "text": [
      "Grupo vacío en la votación: {'asiento': '1804', 'diputado': 'Conesa Coma, Ignasi', 'grupo': '', 'voto': 'Sí'}\n",
      "Grupo vacío en la votación: {'asiento': '1804', 'diputado': 'Conesa Coma, Ignasi', 'grupo': '', 'voto': 'Sí'}\n",
      "Grupo vacío en la votación: {'asiento': '2511', 'diputado': 'Santana Perera, Noemí', 'grupo': '', 'voto': 'Sí'}\n",
      "Grupo vacío en la votación: {'asiento': '2511', 'diputado': 'Santana Perera, Noemí', 'grupo': '', 'voto': 'No'}\n"
     ]
    }
   ],
   "source": [
    "for json_file in json_folder:\n",
    "    with open(json_file, \"r\", encoding=\"utf-8\") as json_file:\n",
    "        # Load the JSON file\n",
    "        # Assuming the JSON file contains a list of dictionaries\n",
    "        # If the structure is different, adjust accordingly\n",
    "        # For example, if it's a single dictionary, you can just load it directly\n",
    "        #\n",
    "        data = json.load(json_file)\n",
    "        # Extract session data\n",
    "        sesion_id = data[\"informacion\"][\"sesion\"]\n",
    "        if sesion_id not in [s[\"id_sesion\"] for s in sesiones]:\n",
    "            sesiones.append({\n",
    "                \"id_sesion\": sesion_id,\n",
    "                \"fecha\": data[\"informacion\"][\"fecha\"],\n",
    "                \"numero_sesion\": data[\"informacion\"][\"sesion\"]\n",
    "            })\n",
    "\n",
    "        # Extract votacion data\n",
    "        votacion_id = len(votaciones) + 1\n",
    "        votaciones.append({\n",
    "            \"id_votacion\": votacion_id,\n",
    "            \"id_sesion\": sesion_id,\n",
    "            \"numero_votacion\": data[\"informacion\"][\"numeroVotacion\"],\n",
    "            \"titulo\": data[\"informacion\"][\"titulo\"],\n",
    "            \"texto_expediente\": data[\"informacion\"][\"textoExpediente\"],\n",
    "            \"presentes\": data[\"totales\"][\"presentes\"],\n",
    "            \"a_favor\": data[\"totales\"][\"afavor\"],\n",
    "            \"en_contra\": data[\"totales\"][\"enContra\"],\n",
    "            \"abstenciones\": data[\"totales\"][\"abstenciones\"],\n",
    "            \"no_votan\": data[\"totales\"][\"noVotan\"]\n",
    "        })\n",
    "\n",
    "        # Extract grupos parlamentarios and diputados\n",
    "        for votacion in data[\"votaciones\"]:\n",
    "            grupo = votacion.get(\"grupo\", \"\")\n",
    "            if grupo == \"\":\n",
    "                print(f\"Grupo vacío en la votación: {votacion}\")\n",
    "                continue  # Skip empty groups\n",
    "            if grupo not in grupos_parlamentarios:\n",
    "                grupos_parlamentarios[grupo] = grupo_id_counter\n",
    "                grupo_id_counter += 1\n",
    "\n",
    "            diputado = votacion.get(\"diputado\", \"Unknown\")\n",
    "            if diputado not in diputados:\n",
    "                diputados[diputado] = {\n",
    "                    \"id_diputado\": diputado_id_counter,\n",
    "                    \"nombre\": diputado,\n",
    "                    \"id_grupo\": grupos_parlamentarios[grupo]\n",
    "                }\n",
    "                diputado_id_counter += 1\n",
    "\n",
    "            # Extract votos\n",
    "            votos.append({\n",
    "                \"id_voto\": len(votos) + 1,\n",
    "                \"id_votacion\": votacion_id,\n",
    "                \"id_diputado\": diputados[diputado][\"id_diputado\"],\n",
    "                \"asiento\": votacion.get(\"asiento\", \"\"),\n",
    "                \"voto\": votacion[\"voto\"]\n",
    "            })\n",
    "\n",
    "# Convert data to DataFrames\n",
    "sesiones_df = pd.DataFrame(sesiones)\n",
    "votaciones_df = pd.DataFrame(votaciones)\n",
    "grupos_parlamentarios_df = pd.DataFrame([\n",
    "{\"id_grupo\": id_grupo, \"nombre\": nombre}\n",
    "for nombre, id_grupo in grupos_parlamentarios.items()\n",
    "])\n",
    "diputados_df = pd.DataFrame(diputados.values())\n",
    "votos_df = pd.DataFrame(votos)"
   ]
  },
  {
   "cell_type": "code",
   "execution_count": 5,
   "id": "0f870ea8",
   "metadata": {},
   "outputs": [],
   "source": [
    "# format date of sesiones_df to YYYY-MM-DD\n",
    "sesiones_df[\"fecha\"] = pd.to_datetime(sesiones_df[\"fecha\"], format=\"%d/%m/%Y\").dt.strftime(\"%Y-%m-%d\")"
   ]
  },
  {
   "cell_type": "code",
   "execution_count": 6,
   "id": "409723bf",
   "metadata": {},
   "outputs": [],
   "source": [
    "PP = 'PP'\n",
    "PSOE = 'PSOE'\n",
    "VOX = 'VOX'\n",
    "ERC = 'ERC'\n",
    "JXCAT = 'JxCAT'\n",
    "MIXTO = 'Mixto'\n",
    "SUMAR = 'Sumar'\n",
    "BILDU = 'EH Bildu'\n",
    "PNV = 'EAJ-PNV'\n",
    "ERC = 'ERC'"
   ]
  },
  {
   "cell_type": "code",
   "execution_count": 7,
   "id": "768e8403",
   "metadata": {},
   "outputs": [],
   "source": [
    "grupos_parlamentarios_df['nombre'] = grupos_parlamentarios_df['nombre'].replace(\n",
    "    {\n",
    "        'GP': PP,\n",
    "        'GVOX': VOX,\n",
    "        'GMx': MIXTO,\n",
    "        'GJxCAT': JXCAT,\n",
    "        'GS': PSOE,\n",
    "        'GSUMAR': SUMAR,\n",
    "        'GEH Bildu': BILDU,\n",
    "        'GV (EAJ-PNV)': PNV,\n",
    "        'GR': ERC,\n",
    "    }\n",
    ")\n",
    "# crea una nueva columna con el color de cada grupo parlamentario\n",
    "grupos_parlamentarios_df['color'] = grupos_parlamentarios_df['nombre'].replace(\n",
    "    {\n",
    "        PP: '#1E4B8F',\n",
    "        PSOE: '#E30713',\n",
    "        VOX: '#63BE21',\n",
    "        ERC: '#FFB232',\n",
    "        JXCAT: '#20C0B2',\n",
    "        MIXTO: '#A0A0A0',\n",
    "        SUMAR: '#E51C55',\n",
    "        BILDU: '#008000',\n",
    "        PNV: '#007A33'\n",
    "    }\n",
    ")\n",
    "grupos_parlamentarios_df['order'] = grupos_parlamentarios_df['nombre'].replace(\n",
    "    {\n",
    "        PP: 7,\n",
    "        PSOE: 4,\n",
    "        VOX: 8,\n",
    "        ERC: 2,\n",
    "        JXCAT: 6,\n",
    "        MIXTO: 0,\n",
    "        SUMAR: 3,\n",
    "        BILDU: 1,\n",
    "        PNV: 5\n",
    "    }\n",
    ")"
   ]
  },
  {
   "cell_type": "markdown",
   "id": "02e405f3",
   "metadata": {},
   "source": [
    "## Detección proponentes"
   ]
  },
  {
   "cell_type": "code",
   "execution_count": 8,
   "id": "bd4b586c",
   "metadata": {},
   "outputs": [],
   "source": [
    "import re\n",
    "# Tries to detect which groupo parlamentario proposed the votacion from column texto_expediente\n",
    "def generate_proponentes(votaciones_df):\n",
    "\n",
    "    regex_grupos = [\n",
    "        # Popular\n",
    "        (r'popular', PP),\n",
    "        (r'sumar', SUMAR),\n",
    "        (r'vox', VOX),\n",
    "        (r'republicano', ERC),\n",
    "        (r'euskal herria bildu', BILDU),\n",
    "        (r'mixto', MIXTO),\n",
    "        (r'eaj-pnv', PNV),\n",
    "        (r'junts per catalunya', JXCAT),\n",
    "        (r'socialista', PSOE),\n",
    "    ]\n",
    "    proponents = []\n",
    "    for index, row in votaciones_df.iterrows():\n",
    "        # Extract the text from first mention to \"Grupo(s) parlamentario(s) until\"\n",
    "        texto_expediente = row['texto_expediente']\n",
    "\n",
    "        for regex, grupo in regex_grupos:\n",
    "            if re.search(regex, texto_expediente, re.IGNORECASE):\n",
    "                proponents.append({\n",
    "                    'id_votacion': row['id_votacion'],\n",
    "                    'proponente': grupo\n",
    "                })\n",
    "    return pd.DataFrame(proponents)\n",
    "\n",
    "proponentes_df = generate_proponentes(votaciones_df)"
   ]
  },
  {
   "cell_type": "code",
   "execution_count": 9,
   "id": "03dd2199",
   "metadata": {},
   "outputs": [],
   "source": [
    "proponentes_df = proponentes_df.merge(grupos_parlamentarios_df, how='left', left_on='proponente', right_on='nombre', suffixes=('', '_grupo'))[['id_votacion', 'id_grupo']]"
   ]
  },
  {
   "cell_type": "markdown",
   "id": "48e4c831",
   "metadata": {},
   "source": [
    "## Detección subcategorias"
   ]
  },
  {
   "cell_type": "code",
   "execution_count": null,
   "id": "2e5fc58f",
   "metadata": {},
   "outputs": [],
   "source": [
    "df_subcategorias = pd.read_csv(\"subcategorias.csv\", encoding=\"utf-8\")"
   ]
  },
  {
   "cell_type": "code",
   "execution_count": null,
   "id": "4746a81f",
   "metadata": {},
   "outputs": [],
   "source": [
    "# Diccionario básico de palabras clave por subcategoría\n",
    "with open(\"keywords_por_subcategoria.json\", \"r\", encoding=\"utf-8\") as f:\n",
    "    keywords_por_subcategoria = json.load(f)\n",
    "\n",
    "def asignar_subcategorias(texto_expediente):\n",
    "    texto = texto_expediente.lower()\n",
    "    ids_detectados = set()\n",
    "    \n",
    "    for subcat, keywords in keywords_por_subcategoria.items():\n",
    "        if any(kw in texto for kw in keywords):\n",
    "            id_sub = df_subcategorias[df_subcategorias[\"nombre_subcategoria\"] == subcat][\"id_subcategoria\"].values\n",
    "            if len(id_sub):\n",
    "                ids_detectados.add(int(id_sub[0]))\n",
    "    \n",
    "    return list(ids_detectados) if ids_detectados else None"
   ]
  },
  {
   "cell_type": "code",
   "execution_count": 13,
   "id": "30830e62",
   "metadata": {},
   "outputs": [],
   "source": [
    "votaciones_df['subcategorias'] = votaciones_df['texto_expediente'].apply(asignar_subcategorias)"
   ]
  },
  {
   "cell_type": "code",
   "execution_count": 14,
   "id": "649e5bad",
   "metadata": {},
   "outputs": [
    {
     "data": {
      "text/plain": [
       "37.236962488563584"
      ]
     },
     "execution_count": 14,
     "metadata": {},
     "output_type": "execute_result"
    }
   ],
   "source": [
    "votaciones_df['subcategorias'].notna().sum() / votaciones_df.shape[0] * 100"
   ]
  },
  {
   "cell_type": "code",
   "execution_count": 15,
   "id": "c1000869",
   "metadata": {},
   "outputs": [],
   "source": [
    "votaciones_subcategorias = votaciones_df.explode('subcategorias')[['id_votacion', 'subcategorias']].query(\"subcategorias.notna()\").rename(columns={'subcategorias': 'id_subcategoria'}).drop_duplicates().reset_index(drop=True)"
   ]
  },
  {
   "cell_type": "code",
   "execution_count": 16,
   "id": "d8ff730a",
   "metadata": {},
   "outputs": [],
   "source": [
    "votaciones_df.drop(columns=['subcategorias'], inplace=True)"
   ]
  },
  {
   "cell_type": "code",
   "execution_count": 17,
   "id": "cf988eca",
   "metadata": {},
   "outputs": [],
   "source": [
    "# Save DataFrames to CSV files in data/processed folder (create if not exists)\n",
    "import os\n",
    "os.makedirs(\"data/processed\", exist_ok=True)\n",
    "sesiones_df.to_csv(\"data/processed/sesiones.csv\", index=False, encoding=\"utf-8\")\n",
    "votaciones_df.to_csv(\"data/processed/votaciones.csv\", index=False, encoding=\"utf-8\")\n",
    "grupos_parlamentarios_df.to_csv(\"data/processed/grupos_parlamentarios.csv\", index=False, encoding=\"utf-8\")\n",
    "diputados_df.to_csv(\"data/processed/diputados.csv\", index=False, encoding=\"utf-8\")\n",
    "votos_df.to_csv(\"data/processed/votos.csv\", index=False, encoding=\"utf-8\")\n",
    "proponentes_df.to_csv(\"data/processed/proponentes.csv\", index=False, encoding=\"utf-8\")\n",
    "votaciones_subcategorias.to_csv(\"data/processed/votaciones_subcategorias.csv\", index=False, encoding=\"utf-8\")"
   ]
  }
 ],
 "metadata": {
  "kernelspec": {
   "display_name": "Python 3",
   "language": "python",
   "name": "python3"
  },
  "language_info": {
   "codemirror_mode": {
    "name": "ipython",
    "version": 3
   },
   "file_extension": ".py",
   "mimetype": "text/x-python",
   "name": "python",
   "nbconvert_exporter": "python",
   "pygments_lexer": "ipython3",
   "version": "3.7.9"
  }
 },
 "nbformat": 4,
 "nbformat_minor": 5
}
