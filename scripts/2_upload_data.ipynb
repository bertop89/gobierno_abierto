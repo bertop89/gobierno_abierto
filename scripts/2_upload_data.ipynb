{
 "cells": [
  {
   "cell_type": "code",
   "execution_count": 1,
   "id": "7b39a920",
   "metadata": {},
   "outputs": [],
   "source": [
    "import pandas as pd\n",
    "import time"
   ]
  },
  {
   "cell_type": "code",
   "execution_count": 18,
   "id": "115a84c5",
   "metadata": {},
   "outputs": [],
   "source": [
    "# Loads all the csv data into dataframes\n",
    "sesiones_df = pd.read_csv(\"data/processed/sesiones.csv\")\n",
    "votaciones_df = pd.read_csv(\"data/processed/votaciones.csv\")\n",
    "grupos_parlamentarios_df = pd.read_csv(\"data/processed/grupos_parlamentarios.csv\")\n",
    "diputados_df = pd.read_csv(\"data/processed/diputados.csv\")\n",
    "votos_df = pd.read_csv(\"data/processed/votos.csv\")\n",
    "proponentes_df = pd.read_csv(\"data/processed/proponentes.csv\")\n",
    "categorias_df = pd.read_csv(\"categorias.csv\")\n",
    "subcategorias_df = pd.read_csv(\"subcategorias.csv\")\n",
    "votaciones_subcategorias_df = pd.read_csv(\"data/processed/votaciones_subcategorias.csv\")"
   ]
  },
  {
   "cell_type": "code",
   "execution_count": 16,
   "id": "57ed4f98",
   "metadata": {},
   "outputs": [],
   "source": [
    "# Uploads the dataframes to the supabase instance\n",
    "from supabase import create_client, Client\n",
    "\n",
    "# read key from .env.local file NEXT_PUBLIC_SUPABASE_URL\n",
    "with open(\"../.env.local\", \"r\") as f:\n",
    "    lines = f.readlines()\n",
    "    url = lines[0].split(\"=\")[1].strip()\n",
    "with open(\"data/supabase_key.txt\", \"r\") as f:\n",
    "    lines = f.readlines()\n",
    "    key = lines[0].strip()\n",
    "\n",
    "supabase: Client = create_client(url, key)\n"
   ]
  },
  {
   "cell_type": "code",
   "execution_count": null,
   "id": "05b62249",
   "metadata": {},
   "outputs": [],
   "source": [
    "\n",
    "# Uploads the dataframes to the supabase instance\n",
    "print(\"Deleting...\")\n",
    "table_pks = [\n",
    "    (\"proponentes\", \"id_proponente\"),\n",
    "    (\"votaciones_subcategorias\", \"id_votacion_subcategoria\"),\n",
    "    (\"subcategorias\", \"id_subcategoria\"),\n",
    "    (\"categorias\", \"id_categoria\"),\n",
    "    (\"votos\", \"id_voto\"),\n",
    "    (\"diputados\", \"id_diputado\"),\n",
    "    (\"grupos_parlamentarios\", \"id_grupo\"),\n",
    "    (\"votaciones\", \"id_votacion\"),\n",
    "    (\"sesiones\", \"id_sesion\"),\n",
    "]\n",
    "for table, pk in table_pks:\n",
    "    print(f\"Deleting {table}...\")\n",
    "    # Delete all rows in the table with id >= 0\n",
    "    try:\n",
    "        supabase.table(table).delete().gte(pk, 0).execute()\n",
    "    except Exception as e:\n",
    "        print(f\"Error deleting {table}: {e}\")\n",
    "        continue\n",
    "    time.sleep(5)  # Sleep for 1 second to avoid rate limiting\n",
    "    print(f\"Deleted {table}\")"
   ]
  },
  {
   "cell_type": "code",
   "execution_count": 6,
   "id": "451e8acf",
   "metadata": {},
   "outputs": [
    {
     "name": "stdout",
     "output_type": "stream",
     "text": [
      "Inserting...\n",
      "Inserting batch 1 of 39\n",
      "Inserting batch 2 of 39\n",
      "Inserting batch 3 of 39\n",
      "Inserting batch 4 of 39\n",
      "Inserting batch 5 of 39\n",
      "Inserting batch 6 of 39\n",
      "Inserting batch 7 of 39\n",
      "Inserting batch 8 of 39\n",
      "Inserting batch 9 of 39\n",
      "Inserting batch 10 of 39\n",
      "Inserting batch 11 of 39\n",
      "Inserting batch 12 of 39\n",
      "Inserting batch 13 of 39\n",
      "Inserting batch 14 of 39\n",
      "Inserting batch 15 of 39\n",
      "Inserting batch 16 of 39\n",
      "Inserting batch 17 of 39\n",
      "Inserting batch 18 of 39\n",
      "Inserting batch 19 of 39\n",
      "Inserting batch 20 of 39\n",
      "Inserting batch 21 of 39\n",
      "Inserting batch 22 of 39\n",
      "Inserting batch 23 of 39\n",
      "Inserting batch 24 of 39\n",
      "Inserting batch 25 of 39\n",
      "Inserting batch 26 of 39\n",
      "Inserting batch 27 of 39\n",
      "Inserting batch 28 of 39\n",
      "Inserting batch 29 of 39\n",
      "Inserting batch 30 of 39\n",
      "Inserting batch 31 of 39\n",
      "Inserting batch 32 of 39\n",
      "Inserting batch 33 of 39\n",
      "Inserting batch 34 of 39\n",
      "Inserting batch 35 of 39\n",
      "Inserting batch 36 of 39\n",
      "Inserting batch 37 of 39\n",
      "Inserting batch 38 of 39\n",
      "Inserting batch 39 of 39\n"
     ]
    },
    {
     "data": {
      "text/plain": [
       "APIResponse(data=[{'id_votacion': 14, 'id_subcategoria': 3}, {'id_votacion': 18, 'id_subcategoria': 15}, {'id_votacion': 19, 'id_subcategoria': 14}, {'id_votacion': 20, 'id_subcategoria': 3}, {'id_votacion': 21, 'id_subcategoria': 3}, {'id_votacion': 22, 'id_subcategoria': 3}, {'id_votacion': 26, 'id_subcategoria': 17}, {'id_votacion': 28, 'id_subcategoria': 27}, {'id_votacion': 30, 'id_subcategoria': 3}, {'id_votacion': 31, 'id_subcategoria': 3}, {'id_votacion': 32, 'id_subcategoria': 3}, {'id_votacion': 33, 'id_subcategoria': 3}, {'id_votacion': 35, 'id_subcategoria': 3}, {'id_votacion': 36, 'id_subcategoria': 33}, {'id_votacion': 36, 'id_subcategoria': 50}, {'id_votacion': 38, 'id_subcategoria': 8}, {'id_votacion': 41, 'id_subcategoria': 1}, {'id_votacion': 42, 'id_subcategoria': 1}, {'id_votacion': 52, 'id_subcategoria': 5}, {'id_votacion': 53, 'id_subcategoria': 50}, {'id_votacion': 54, 'id_subcategoria': 44}, {'id_votacion': 55, 'id_subcategoria': 46}, {'id_votacion': 57, 'id_subcategoria': 16}, {'id_votacion': 60, 'id_subcategoria': 11}, {'id_votacion': 60, 'id_subcategoria': 3}, {'id_votacion': 62, 'id_subcategoria': 39}, {'id_votacion': 63, 'id_subcategoria': 39}, {'id_votacion': 64, 'id_subcategoria': 39}, {'id_votacion': 65, 'id_subcategoria': 39}, {'id_votacion': 66, 'id_subcategoria': 39}, {'id_votacion': 67, 'id_subcategoria': 39}, {'id_votacion': 68, 'id_subcategoria': 1}, {'id_votacion': 69, 'id_subcategoria': 12}, {'id_votacion': 72, 'id_subcategoria': 39}, {'id_votacion': 73, 'id_subcategoria': 39}, {'id_votacion': 74, 'id_subcategoria': 39}, {'id_votacion': 75, 'id_subcategoria': 39}, {'id_votacion': 76, 'id_subcategoria': 39}, {'id_votacion': 77, 'id_subcategoria': 39}, {'id_votacion': 78, 'id_subcategoria': 39}, {'id_votacion': 87, 'id_subcategoria': 33}, {'id_votacion': 87, 'id_subcategoria': 3}, {'id_votacion': 88, 'id_subcategoria': 8}, {'id_votacion': 90, 'id_subcategoria': 37}, {'id_votacion': 91, 'id_subcategoria': 16}, {'id_votacion': 127, 'id_subcategoria': 46}, {'id_votacion': 128, 'id_subcategoria': 24}, {'id_votacion': 147, 'id_subcategoria': 20}, {'id_votacion': 157, 'id_subcategoria': 27}, {'id_votacion': 157, 'id_subcategoria': 30}, {'id_votacion': 158, 'id_subcategoria': 27}, {'id_votacion': 158, 'id_subcategoria': 30}, {'id_votacion': 159, 'id_subcategoria': 38}, {'id_votacion': 162, 'id_subcategoria': 24}, {'id_votacion': 162, 'id_subcategoria': 26}, {'id_votacion': 162, 'id_subcategoria': 20}, {'id_votacion': 163, 'id_subcategoria': 16}, {'id_votacion': 163, 'id_subcategoria': 17}, {'id_votacion': 164, 'id_subcategoria': 3}, {'id_votacion': 166, 'id_subcategoria': 50}, {'id_votacion': 166, 'id_subcategoria': 28}, {'id_votacion': 169, 'id_subcategoria': 22}, {'id_votacion': 169, 'id_subcategoria': 23}, {'id_votacion': 170, 'id_subcategoria': 3}, {'id_votacion': 170, 'id_subcategoria': 20}, {'id_votacion': 171, 'id_subcategoria': 4}, {'id_votacion': 172, 'id_subcategoria': 4}, {'id_votacion': 173, 'id_subcategoria': 4}, {'id_votacion': 174, 'id_subcategoria': 4}, {'id_votacion': 175, 'id_subcategoria': 37}, {'id_votacion': 177, 'id_subcategoria': 32}, {'id_votacion': 178, 'id_subcategoria': 32}, {'id_votacion': 179, 'id_subcategoria': 33}, {'id_votacion': 188, 'id_subcategoria': 32}, {'id_votacion': 189, 'id_subcategoria': 32}, {'id_votacion': 190, 'id_subcategoria': 32}, {'id_votacion': 191, 'id_subcategoria': 32}, {'id_votacion': 192, 'id_subcategoria': 32}, {'id_votacion': 193, 'id_subcategoria': 32}, {'id_votacion': 194, 'id_subcategoria': 32}, {'id_votacion': 206, 'id_subcategoria': 38}, {'id_votacion': 220, 'id_subcategoria': 56}, {'id_votacion': 221, 'id_subcategoria': 56}, {'id_votacion': 222, 'id_subcategoria': 56}, {'id_votacion': 223, 'id_subcategoria': 56}, {'id_votacion': 224, 'id_subcategoria': 56}, {'id_votacion': 225, 'id_subcategoria': 56}, {'id_votacion': 226, 'id_subcategoria': 12}, {'id_votacion': 236, 'id_subcategoria': 48}, {'id_votacion': 237, 'id_subcategoria': 48}, {'id_votacion': 238, 'id_subcategoria': 48}, {'id_votacion': 279, 'id_subcategoria': 48}, {'id_votacion': 283, 'id_subcategoria': 51}, {'id_votacion': 287, 'id_subcategoria': 3}, {'id_votacion': 288, 'id_subcategoria': 21}, {'id_votacion': 290, 'id_subcategoria': 48}, {'id_votacion': 293, 'id_subcategoria': 48}, {'id_votacion': 294, 'id_subcategoria': 48}, {'id_votacion': 295, 'id_subcategoria': 48}, {'id_votacion': 298, 'id_subcategoria': 4}, {'id_votacion': 299, 'id_subcategoria': 4}, {'id_votacion': 300, 'id_subcategoria': 4}, {'id_votacion': 301, 'id_subcategoria': 4}, {'id_votacion': 302, 'id_subcategoria': 4}, {'id_votacion': 303, 'id_subcategoria': 4}, {'id_votacion': 304, 'id_subcategoria': 4}, {'id_votacion': 305, 'id_subcategoria': 4}, {'id_votacion': 306, 'id_subcategoria': 4}, {'id_votacion': 307, 'id_subcategoria': 4}, {'id_votacion': 308, 'id_subcategoria': 4}, {'id_votacion': 309, 'id_subcategoria': 4}, {'id_votacion': 310, 'id_subcategoria': 4}, {'id_votacion': 316, 'id_subcategoria': 50}, {'id_votacion': 317, 'id_subcategoria': 50}, {'id_votacion': 318, 'id_subcategoria': 50}, {'id_votacion': 319, 'id_subcategoria': 50}, {'id_votacion': 320, 'id_subcategoria': 4}, {'id_votacion': 321, 'id_subcategoria': 50}, {'id_votacion': 322, 'id_subcategoria': 50}, {'id_votacion': 323, 'id_subcategoria': 50}, {'id_votacion': 324, 'id_subcategoria': 50}, {'id_votacion': 325, 'id_subcategoria': 50}, {'id_votacion': 326, 'id_subcategoria': 50}, {'id_votacion': 327, 'id_subcategoria': 50}, {'id_votacion': 328, 'id_subcategoria': 4}, {'id_votacion': 329, 'id_subcategoria': 4}, {'id_votacion': 330, 'id_subcategoria': 4}, {'id_votacion': 331, 'id_subcategoria': 4}, {'id_votacion': 332, 'id_subcategoria': 4}, {'id_votacion': 333, 'id_subcategoria': 4}, {'id_votacion': 352, 'id_subcategoria': 32}, {'id_votacion': 353, 'id_subcategoria': 32}, {'id_votacion': 362, 'id_subcategoria': 24}, {'id_votacion': 373, 'id_subcategoria': 33}, {'id_votacion': 373, 'id_subcategoria': 50}, {'id_votacion': 375, 'id_subcategoria': 33}, {'id_votacion': 375, 'id_subcategoria': 50}, {'id_votacion': 376, 'id_subcategoria': 24}, {'id_votacion': 376, 'id_subcategoria': 45}, {'id_votacion': 377, 'id_subcategoria': 24}, {'id_votacion': 377, 'id_subcategoria': 45}, {'id_votacion': 389, 'id_subcategoria': 3}, {'id_votacion': 390, 'id_subcategoria': 12}, {'id_votacion': 391, 'id_subcategoria': 12}, {'id_votacion': 392, 'id_subcategoria': 12}, {'id_votacion': 393, 'id_subcategoria': 12}, {'id_votacion': 394, 'id_subcategoria': 12}, {'id_votacion': 395, 'id_subcategoria': 12}, {'id_votacion': 396, 'id_subcategoria': 12}, {'id_votacion': 401, 'id_subcategoria': 12}, {'id_votacion': 404, 'id_subcategoria': 24}, {'id_votacion': 405, 'id_subcategoria': 16}, {'id_votacion': 412, 'id_subcategoria': 12}, {'id_votacion': 419, 'id_subcategoria': 4}, {'id_votacion': 420, 'id_subcategoria': 4}, {'id_votacion': 421, 'id_subcategoria': 4}, {'id_votacion': 422, 'id_subcategoria': 4}, {'id_votacion': 423, 'id_subcategoria': 12}, {'id_votacion': 424, 'id_subcategoria': 4}, {'id_votacion': 425, 'id_subcategoria': 4}, {'id_votacion': 426, 'id_subcategoria': 4}, {'id_votacion': 427, 'id_subcategoria': 12}, {'id_votacion': 428, 'id_subcategoria': 12}, {'id_votacion': 431, 'id_subcategoria': 12}, {'id_votacion': 432, 'id_subcategoria': 12}, {'id_votacion': 433, 'id_subcategoria': 12}, {'id_votacion': 434, 'id_subcategoria': 12}, {'id_votacion': 435, 'id_subcategoria': 12}, {'id_votacion': 439, 'id_subcategoria': 3}, {'id_votacion': 439, 'id_subcategoria': 23}, {'id_votacion': 490, 'id_subcategoria': 12}, {'id_votacion': 491, 'id_subcategoria': 12}, {'id_votacion': 492, 'id_subcategoria': 12}, {'id_votacion': 493, 'id_subcategoria': 12}, {'id_votacion': 495, 'id_subcategoria': 12}, {'id_votacion': 496, 'id_subcategoria': 12}, {'id_votacion': 497, 'id_subcategoria': 12}, {'id_votacion': 498, 'id_subcategoria': 12}, {'id_votacion': 499, 'id_subcategoria': 12}, {'id_votacion': 500, 'id_subcategoria': 12}, {'id_votacion': 501, 'id_subcategoria': 12}, {'id_votacion': 502, 'id_subcategoria': 12}, {'id_votacion': 503, 'id_subcategoria': 12}, {'id_votacion': 504, 'id_subcategoria': 12}, {'id_votacion': 506, 'id_subcategoria': 12}, {'id_votacion': 507, 'id_subcategoria': 12}, {'id_votacion': 508, 'id_subcategoria': 12}, {'id_votacion': 514, 'id_subcategoria': 12}, {'id_votacion': 524, 'id_subcategoria': 8}, {'id_votacion': 527, 'id_subcategoria': 50}, {'id_votacion': 527, 'id_subcategoria': 5}, {'id_votacion': 528, 'id_subcategoria': 27}, {'id_votacion': 528, 'id_subcategoria': 30}, {'id_votacion': 530, 'id_subcategoria': 5}, {'id_votacion': 534, 'id_subcategoria': 16}, {'id_votacion': 535, 'id_subcategoria': 16}, {'id_votacion': 536, 'id_subcategoria': 16}, {'id_votacion': 537, 'id_subcategoria': 16}, {'id_votacion': 538, 'id_subcategoria': 16}, {'id_votacion': 539, 'id_subcategoria': 16}, {'id_votacion': 541, 'id_subcategoria': 32}, {'id_votacion': 543, 'id_subcategoria': 50}, {'id_votacion': 544, 'id_subcategoria': 50}, {'id_votacion': 545, 'id_subcategoria': 50}, {'id_votacion': 546, 'id_subcategoria': 27}, {'id_votacion': 546, 'id_subcategoria': 30}, {'id_votacion': 554, 'id_subcategoria': 44}, {'id_votacion': 558, 'id_subcategoria': 46}, {'id_votacion': 559, 'id_subcategoria': 46}, {'id_votacion': 562, 'id_subcategoria': 33}, {'id_votacion': 565, 'id_subcategoria': 21}, {'id_votacion': 566, 'id_subcategoria': 21}, {'id_votacion': 567, 'id_subcategoria': 21}, {'id_votacion': 568, 'id_subcategoria': 21}, {'id_votacion': 571, 'id_subcategoria': 9}, {'id_votacion': 576, 'id_subcategoria': 24}, {'id_votacion': 576, 'id_subcategoria': 21}, {'id_votacion': 576, 'id_subcategoria': 23}, {'id_votacion': 581, 'id_subcategoria': 39}, {'id_votacion': 582, 'id_subcategoria': 21}, {'id_votacion': 583, 'id_subcategoria': 21}, {'id_votacion': 584, 'id_subcategoria': 5}, {'id_votacion': 587, 'id_subcategoria': 27}, {'id_votacion': 587, 'id_subcategoria': 53}, {'id_votacion': 589, 'id_subcategoria': 22}, {'id_votacion': 590, 'id_subcategoria': 22}, {'id_votacion': 591, 'id_subcategoria': 22}, {'id_votacion': 593, 'id_subcategoria': 27}, {'id_votacion': 593, 'id_subcategoria': 53}, {'id_votacion': 594, 'id_subcategoria': 27}, {'id_votacion': 594, 'id_subcategoria': 53}, {'id_votacion': 595, 'id_subcategoria': 27}, {'id_votacion': 595, 'id_subcategoria': 53}, {'id_votacion': 596, 'id_subcategoria': 12}, {'id_votacion': 601, 'id_subcategoria': 51}, {'id_votacion': 602, 'id_subcategoria': 32}, {'id_votacion': 602, 'id_subcategoria': 26}, {'id_votacion': 603, 'id_subcategoria': 27}, {'id_votacion': 603, 'id_subcategoria': 30}, {'id_votacion': 604, 'id_subcategoria': 32}, {'id_votacion': 605, 'id_subcategoria': 32}, {'id_votacion': 606, 'id_subcategoria': 17}, {'id_votacion': 608, 'id_subcategoria': 4}, {'id_votacion': 609, 'id_subcategoria': 4}, {'id_votacion': 610, 'id_subcategoria': 4}, {'id_votacion': 611, 'id_subcategoria': 4}, {'id_votacion': 612, 'id_subcategoria': 4}, {'id_votacion': 613, 'id_subcategoria': 4}, {'id_votacion': 614, 'id_subcategoria': 4}, {'id_votacion': 615, 'id_subcategoria': 32}, {'id_votacion': 616, 'id_subcategoria': 4}, {'id_votacion': 626, 'id_subcategoria': 32}, {'id_votacion': 629, 'id_subcategoria': 32}, {'id_votacion': 630, 'id_subcategoria': 32}, {'id_votacion': 631, 'id_subcategoria': 32}, {'id_votacion': 632, 'id_subcategoria': 32}, {'id_votacion': 633, 'id_subcategoria': 32}, {'id_votacion': 634, 'id_subcategoria': 32}, {'id_votacion': 635, 'id_subcategoria': 56}, {'id_votacion': 637, 'id_subcategoria': 25}, {'id_votacion': 638, 'id_subcategoria': 25}, {'id_votacion': 640, 'id_subcategoria': 3}, {'id_votacion': 640, 'id_subcategoria': 23}, {'id_votacion': 641, 'id_subcategoria': 3}, {'id_votacion': 641, 'id_subcategoria': 23}, {'id_votacion': 642, 'id_subcategoria': 3}, {'id_votacion': 642, 'id_subcategoria': 23}, {'id_votacion': 643, 'id_subcategoria': 3}, {'id_votacion': 643, 'id_subcategoria': 23}, {'id_votacion': 644, 'id_subcategoria': 3}, {'id_votacion': 644, 'id_subcategoria': 23}, {'id_votacion': 645, 'id_subcategoria': 3}, {'id_votacion': 645, 'id_subcategoria': 23}, {'id_votacion': 646, 'id_subcategoria': 3}, {'id_votacion': 646, 'id_subcategoria': 23}, {'id_votacion': 647, 'id_subcategoria': 3}, {'id_votacion': 647, 'id_subcategoria': 23}, {'id_votacion': 648, 'id_subcategoria': 3}, {'id_votacion': 648, 'id_subcategoria': 23}, {'id_votacion': 649, 'id_subcategoria': 3}, {'id_votacion': 649, 'id_subcategoria': 23}, {'id_votacion': 650, 'id_subcategoria': 3}, {'id_votacion': 650, 'id_subcategoria': 23}, {'id_votacion': 651, 'id_subcategoria': 3}, {'id_votacion': 651, 'id_subcategoria': 23}, {'id_votacion': 652, 'id_subcategoria': 3}, {'id_votacion': 652, 'id_subcategoria': 23}, {'id_votacion': 653, 'id_subcategoria': 3}, {'id_votacion': 653, 'id_subcategoria': 23}, {'id_votacion': 654, 'id_subcategoria': 3}, {'id_votacion': 654, 'id_subcategoria': 23}, {'id_votacion': 655, 'id_subcategoria': 3}, {'id_votacion': 655, 'id_subcategoria': 23}, {'id_votacion': 656, 'id_subcategoria': 3}, {'id_votacion': 656, 'id_subcategoria': 23}, {'id_votacion': 657, 'id_subcategoria': 3}, {'id_votacion': 657, 'id_subcategoria': 23}, {'id_votacion': 658, 'id_subcategoria': 3}, {'id_votacion': 658, 'id_subcategoria': 23}, {'id_votacion': 659, 'id_subcategoria': 3}, {'id_votacion': 659, 'id_subcategoria': 23}, {'id_votacion': 660, 'id_subcategoria': 3}, {'id_votacion': 660, 'id_subcategoria': 23}, {'id_votacion': 661, 'id_subcategoria': 3}, {'id_votacion': 661, 'id_subcategoria': 23}, {'id_votacion': 662, 'id_subcategoria': 3}, {'id_votacion': 662, 'id_subcategoria': 23}, {'id_votacion': 663, 'id_subcategoria': 3}, {'id_votacion': 663, 'id_subcategoria': 23}, {'id_votacion': 664, 'id_subcategoria': 3}, {'id_votacion': 664, 'id_subcategoria': 23}, {'id_votacion': 665, 'id_subcategoria': 3}, {'id_votacion': 665, 'id_subcategoria': 23}, {'id_votacion': 666, 'id_subcategoria': 3}, {'id_votacion': 666, 'id_subcategoria': 23}, {'id_votacion': 667, 'id_subcategoria': 3}, {'id_votacion': 668, 'id_subcategoria': 27}, {'id_votacion': 668, 'id_subcategoria': 30}, {'id_votacion': 670, 'id_subcategoria': 3}, {'id_votacion': 670, 'id_subcategoria': 23}, {'id_votacion': 671, 'id_subcategoria': 3}, {'id_votacion': 671, 'id_subcategoria': 23}, {'id_votacion': 672, 'id_subcategoria': 3}, {'id_votacion': 672, 'id_subcategoria': 23}, {'id_votacion': 673, 'id_subcategoria': 3}, {'id_votacion': 673, 'id_subcategoria': 23}, {'id_votacion': 678, 'id_subcategoria': 3}, {'id_votacion': 678, 'id_subcategoria': 4}, {'id_votacion': 679, 'id_subcategoria': 3}, {'id_votacion': 679, 'id_subcategoria': 23}, {'id_votacion': 680, 'id_subcategoria': 3}, {'id_votacion': 680, 'id_subcategoria': 23}, {'id_votacion': 681, 'id_subcategoria': 3}, {'id_votacion': 681, 'id_subcategoria': 23}, {'id_votacion': 682, 'id_subcategoria': 3}, {'id_votacion': 682, 'id_subcategoria': 23}, {'id_votacion': 683, 'id_subcategoria': 3}, {'id_votacion': 683, 'id_subcategoria': 23}, {'id_votacion': 685, 'id_subcategoria': 54}, {'id_votacion': 686, 'id_subcategoria': 9}, {'id_votacion': 687, 'id_subcategoria': 9}, {'id_votacion': 688, 'id_subcategoria': 9}, {'id_votacion': 689, 'id_subcategoria': 9}, {'id_votacion': 690, 'id_subcategoria': 9}, {'id_votacion': 691, 'id_subcategoria': 9}, {'id_votacion': 692, 'id_subcategoria': 9}, {'id_votacion': 693, 'id_subcategoria': 9}, {'id_votacion': 694, 'id_subcategoria': 9}, {'id_votacion': 695, 'id_subcategoria': 9}, {'id_votacion': 696, 'id_subcategoria': 9}, {'id_votacion': 697, 'id_subcategoria': 9}, {'id_votacion': 698, 'id_subcategoria': 9}, {'id_votacion': 699, 'id_subcategoria': 9}, {'id_votacion': 700, 'id_subcategoria': 9}, {'id_votacion': 701, 'id_subcategoria': 9}, {'id_votacion': 702, 'id_subcategoria': 9}, {'id_votacion': 703, 'id_subcategoria': 12}, {'id_votacion': 706, 'id_subcategoria': 51}, {'id_votacion': 707, 'id_subcategoria': 51}, {'id_votacion': 708, 'id_subcategoria': 9}, {'id_votacion': 709, 'id_subcategoria': 51}, {'id_votacion': 710, 'id_subcategoria': 51}, {'id_votacion': 711, 'id_subcategoria': 51}, {'id_votacion': 719, 'id_subcategoria': 9}, {'id_votacion': 730, 'id_subcategoria': 9}, {'id_votacion': 741, 'id_subcategoria': 9}, {'id_votacion': 744, 'id_subcategoria': 9}, {'id_votacion': 745, 'id_subcategoria': 9}, {'id_votacion': 746, 'id_subcategoria': 9}, {'id_votacion': 748, 'id_subcategoria': 9}, {'id_votacion': 749, 'id_subcategoria': 9}, {'id_votacion': 750, 'id_subcategoria': 9}, {'id_votacion': 752, 'id_subcategoria': 6}, {'id_votacion': 756, 'id_subcategoria': 24}, {'id_votacion': 756, 'id_subcategoria': 3}, {'id_votacion': 757, 'id_subcategoria': 24}, {'id_votacion': 757, 'id_subcategoria': 3}, {'id_votacion': 758, 'id_subcategoria': 24}, {'id_votacion': 758, 'id_subcategoria': 3}, {'id_votacion': 759, 'id_subcategoria': 24}, {'id_votacion': 759, 'id_subcategoria': 3}, {'id_votacion': 760, 'id_subcategoria': 24}, {'id_votacion': 760, 'id_subcategoria': 3}, {'id_votacion': 762, 'id_subcategoria': 39}, {'id_votacion': 772, 'id_subcategoria': 12}, {'id_votacion': 777, 'id_subcategoria': 12}, {'id_votacion': 778, 'id_subcategoria': 3}, {'id_votacion': 779, 'id_subcategoria': 3}, {'id_votacion': 780, 'id_subcategoria': 3}, {'id_votacion': 781, 'id_subcategoria': 3}, {'id_votacion': 782, 'id_subcategoria': 52}, {'id_votacion': 783, 'id_subcategoria': 20}, {'id_votacion': 784, 'id_subcategoria': 56}, {'id_votacion': 785, 'id_subcategoria': 56}, {'id_votacion': 786, 'id_subcategoria': 32}, {'id_votacion': 790, 'id_subcategoria': 9}, {'id_votacion': 791, 'id_subcategoria': 9}, {'id_votacion': 792, 'id_subcategoria': 9}, {'id_votacion': 793, 'id_subcategoria': 9}, {'id_votacion': 794, 'id_subcategoria': 9}, {'id_votacion': 795, 'id_subcategoria': 9}, {'id_votacion': 797, 'id_subcategoria': 34}, {'id_votacion': 847, 'id_subcategoria': 28}, {'id_votacion': 858, 'id_subcategoria': 37}, {'id_votacion': 858, 'id_subcategoria': 39}, {'id_votacion': 882, 'id_subcategoria': 3}, {'id_votacion': 882, 'id_subcategoria': 23}, {'id_votacion': 885, 'id_subcategoria': 9}, {'id_votacion': 886, 'id_subcategoria': 9}, {'id_votacion': 887, 'id_subcategoria': 9}, {'id_votacion': 888, 'id_subcategoria': 9}, {'id_votacion': 889, 'id_subcategoria': 9}, {'id_votacion': 890, 'id_subcategoria': 9}, {'id_votacion': 891, 'id_subcategoria': 9}, {'id_votacion': 892, 'id_subcategoria': 9}, {'id_votacion': 893, 'id_subcategoria': 9}, {'id_votacion': 894, 'id_subcategoria': 9}, {'id_votacion': 895, 'id_subcategoria': 27}, {'id_votacion': 895, 'id_subcategoria': 30}, {'id_votacion': 897, 'id_subcategoria': 27}, {'id_votacion': 898, 'id_subcategoria': 27}, {'id_votacion': 902, 'id_subcategoria': 37}, {'id_votacion': 905, 'id_subcategoria': 27}, {'id_votacion': 905, 'id_subcategoria': 30}, {'id_votacion': 906, 'id_subcategoria': 27}, {'id_votacion': 906, 'id_subcategoria': 30}, {'id_votacion': 909, 'id_subcategoria': 50}, {'id_votacion': 911, 'id_subcategoria': 16}, {'id_votacion': 911, 'id_subcategoria': 17}, {'id_votacion': 913, 'id_subcategoria': 52}, {'id_votacion': 920, 'id_subcategoria': 32}, {'id_votacion': 921, 'id_subcategoria': 52}, {'id_votacion': 922, 'id_subcategoria': 33}, {'id_votacion': 922, 'id_subcategoria': 7}, {'id_votacion': 923, 'id_subcategoria': 32}, {'id_votacion': 924, 'id_subcategoria': 32}, {'id_votacion': 925, 'id_subcategoria': 32}, {'id_votacion': 926, 'id_subcategoria': 32}, {'id_votacion': 927, 'id_subcategoria': 32}, {'id_votacion': 928, 'id_subcategoria': 32}, {'id_votacion': 929, 'id_subcategoria': 32}, {'id_votacion': 932, 'id_subcategoria': 32}, {'id_votacion': 933, 'id_subcategoria': 32}, {'id_votacion': 934, 'id_subcategoria': 32}, {'id_votacion': 935, 'id_subcategoria': 32}, {'id_votacion': 936, 'id_subcategoria': 32}, {'id_votacion': 939, 'id_subcategoria': 12}, {'id_votacion': 947, 'id_subcategoria': 4}, {'id_votacion': 948, 'id_subcategoria': 4}, {'id_votacion': 949, 'id_subcategoria': 4}, {'id_votacion': 950, 'id_subcategoria': 12}, {'id_votacion': 951, 'id_subcategoria': 4}, {'id_votacion': 952, 'id_subcategoria': 4}, {'id_votacion': 953, 'id_subcategoria': 12}, {'id_votacion': 954, 'id_subcategoria': 12}, {'id_votacion': 955, 'id_subcategoria': 12}, {'id_votacion': 956, 'id_subcategoria': 12}, {'id_votacion': 957, 'id_subcategoria': 12}, {'id_votacion': 958, 'id_subcategoria': 52}, {'id_votacion': 962, 'id_subcategoria': 10}, {'id_votacion': 962, 'id_subcategoria': 27}, {'id_votacion': 962, 'id_subcategoria': 30}, {'id_votacion': 972, 'id_subcategoria': 56}, {'id_votacion': 974, 'id_subcategoria': 52}, {'id_votacion': 977, 'id_subcategoria': 52}, {'id_votacion': 978, 'id_subcategoria': 52}, {'id_votacion': 979, 'id_subcategoria': 52}, {'id_votacion': 980, 'id_subcategoria': 52}, {'id_votacion': 981, 'id_subcategoria': 52}, {'id_votacion': 982, 'id_subcategoria': 33}, {'id_votacion': 986, 'id_subcategoria': 16}, {'id_votacion': 990, 'id_subcategoria': 56}, {'id_votacion': 991, 'id_subcategoria': 52}, {'id_votacion': 992, 'id_subcategoria': 52}, {'id_votacion': 993, 'id_subcategoria': 52}, {'id_votacion': 994, 'id_subcategoria': 52}, {'id_votacion': 995, 'id_subcategoria': 52}, {'id_votacion': 996, 'id_subcategoria': 16}, {'id_votacion': 997, 'id_subcategoria': 16}, {'id_votacion': 1008, 'id_subcategoria': 16}, {'id_votacion': 1051, 'id_subcategoria': 4}, {'id_votacion': 1052, 'id_subcategoria': 3}, {'id_votacion': 1052, 'id_subcategoria': 12}, {'id_votacion': 1059, 'id_subcategoria': 50}, {'id_votacion': 1073, 'id_subcategoria': 24}, {'id_votacion': 1073, 'id_subcategoria': 41}, {'id_votacion': 1073, 'id_subcategoria': 42}, {'id_votacion': 1089, 'id_subcategoria': 45}, {'id_votacion': 1091, 'id_subcategoria': 27}, {'id_votacion': 1091, 'id_subcategoria': 30}], count=None)"
      ]
     },
     "execution_count": 6,
     "metadata": {},
     "output_type": "execute_result"
    }
   ],
   "source": [
    "\n",
    "print(\"Inserting...\")\n",
    "supabase.table(\"sesiones\").insert(sesiones_df.to_dict(orient=\"records\")).execute()\n",
    "time.sleep(1)\n",
    "supabase.table(\"votaciones\").insert(votaciones_df.to_dict(orient=\"records\")).execute()\n",
    "time.sleep(1)\n",
    "supabase.table(\"grupos_parlamentarios\").insert(grupos_parlamentarios_df.to_dict(orient=\"records\")).execute()\n",
    "time.sleep(1)\n",
    "supabase.table(\"diputados\").insert(diputados_df.to_dict(orient=\"records\")).execute()\n",
    "time.sleep(1)\n",
    "# Define a batch size\n",
    "batch_size = 10000\n",
    "\n",
    "# Split the DataFrame into smaller chunks\n",
    "for i in range(0, len(votos_df), batch_size):\n",
    "    print(f\"Inserting batch {i // batch_size + 1} of {len(votos_df) // batch_size + 1}\")\n",
    "    batch = votos_df.iloc[i:i + batch_size]\n",
    "    supabase.table(\"votos\").insert(batch.to_dict(orient=\"records\")).execute()\n",
    "    time.sleep(5)  # Optional: Add a delay between batches to avoid overwhelming the server\n",
    "\n",
    "supabase.table(\"proponentes\").insert(proponentes_df.to_dict(orient=\"records\")).execute()\n",
    "time.sleep(1)\n",
    "supabase.table(\"categorias\").insert(categorias_df.to_dict(orient=\"records\")).execute()\n",
    "time.sleep(1)\n",
    "supabase.table(\"subcategorias\").insert(subcategorias_df.to_dict(orient=\"records\")).execute()\n",
    "time.sleep(1)\n",
    "supabase.table(\"votaciones_subcategorias\").insert(votaciones_subcategorias_df.to_dict(orient=\"records\")).execute()"
   ]
  }
 ],
 "metadata": {
  "kernelspec": {
   "display_name": "Python 3",
   "language": "python",
   "name": "python3"
  },
  "language_info": {
   "codemirror_mode": {
    "name": "ipython",
    "version": 3
   },
   "file_extension": ".py",
   "mimetype": "text/x-python",
   "name": "python",
   "nbconvert_exporter": "python",
   "pygments_lexer": "ipython3",
   "version": "3.7.9"
  }
 },
 "nbformat": 4,
 "nbformat_minor": 5
}
