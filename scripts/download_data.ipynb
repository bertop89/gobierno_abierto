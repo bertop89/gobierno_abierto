{
 "cells": [
  {
   "cell_type": "code",
   "execution_count": 6,
   "id": "51fae1ad",
   "metadata": {},
   "outputs": [],
   "source": [
    "import requests\n",
    "from bs4 import BeautifulSoup\n",
    "from datetime import datetime, timedelta\n",
    "import time"
   ]
  },
  {
   "cell_type": "code",
   "execution_count": null,
   "id": "20dcc319",
   "metadata": {},
   "outputs": [
    {
     "name": "stdout",
     "output_type": "stream",
     "text": [
      "✅ Found: https://www.congreso.es/webpublica/opendata/votaciones/Leg15/Sesion089/20250122/VOT_20250122154424.zip\n",
      "✅ Found: https://www.congreso.es/webpublica/opendata/votaciones/Leg15/Sesion090/20250211/VOT_20250211202646.zip\n",
      "✅ Found: https://www.congreso.es/webpublica/opendata/votaciones/Leg15/Sesion091/20250212/VOT_20250212154035.zip\n",
      "✅ Found: https://www.congreso.es/webpublica/opendata/votaciones/Leg15/Sesion092/20250218/VOT_20250218194303.zip\n",
      "✅ Found: https://www.congreso.es/webpublica/opendata/votaciones/Leg15/Sesion093/20250219/VOT_20250219135528.zip\n",
      "✅ Found: https://www.congreso.es/webpublica/opendata/votaciones/Leg15/Sesion094/20250225/VOT_20250225201643.zip\n",
      "✅ Found: https://www.congreso.es/webpublica/opendata/votaciones/Leg15/Sesion095/20250226/VOT_20250226151614.zip\n",
      "✅ Found: https://www.congreso.es/webpublica/opendata/votaciones/Leg15/Sesion096/20250311/VOT_20250311203731.zip\n",
      "✅ Found: https://www.congreso.es/webpublica/opendata/votaciones/Leg15/Sesion098/20250313/VOT_20250313133849.zip\n",
      "✅ Found: https://www.congreso.es/webpublica/opendata/votaciones/Leg15/Sesion099/20250318/VOT_20250318201319.zip\n",
      "✅ Found: https://www.congreso.es/webpublica/opendata/votaciones/Leg15/Sesion101/20250320/VOT_20250320125659.zip\n",
      "✅ Found: https://www.congreso.es/webpublica/opendata/votaciones/Leg15/Sesion102/20250325/VOT_20250325212229.zip\n",
      "✅ Found: https://www.congreso.es/webpublica/opendata/votaciones/Leg15/Sesion103/20250326/VOT_20250326194433.zip\n",
      "✅ Found: https://www.congreso.es/webpublica/opendata/votaciones/Leg15/Sesion104/20250408/VOT_20250408213856.zip\n",
      "✅ Found: https://www.congreso.es/webpublica/opendata/votaciones/Leg15/Sesion106/20250410/VOT_20250410155135.zip\n"
     ]
    }
   ],
   "source": [
    "\n",
    "base_url = \"https://www.congreso.es/es/opendata/votaciones\"\n",
    "legislatura = \"XV\"\n",
    "start_date = datetime(2025, 1, 1)\n",
    "end_date = datetime(2025, 4, 21)\n",
    "\n",
    "headers = {\n",
    "    \"User-Agent\": \"Mozilla/5.0\"  # To avoid basic bot blocks\n",
    "}\n",
    "\n",
    "found_links = []\n",
    "\n",
    "current = start_date\n",
    "while current <= end_date:\n",
    "    formatted_date = current.strftime(\"%d/%m/%Y\")\n",
    "    params = {\n",
    "        \"p_p_id\": \"votaciones\",\n",
    "        \"p_p_lifecycle\": \"0\",\n",
    "        \"p_p_state\": \"normal\",\n",
    "        \"p_p_mode\": \"view\",\n",
    "        \"targetLegislatura\": legislatura,\n",
    "        \"targetDate\": formatted_date\n",
    "    }\n",
    "\n",
    "    #print(f\"Checking {formatted_date}...\")\n",
    "    response = requests.get(base_url, params=params, headers=headers)\n",
    "    if response.status_code != 200:\n",
    "        print(f\"Error {response.status_code}\")\n",
    "        current += timedelta(days=1)\n",
    "        continue\n",
    "\n",
    "    soup = BeautifulSoup(response.text, \"html.parser\")\n",
    "    for a in soup.find_all(\"a\", href=True):\n",
    "        href = a[\"href\"]\n",
    "        if href.endswith(\".zip\"):\n",
    "            full_link = requests.compat.urljoin(base_url, href)\n",
    "            print(f\"✅ Found: {full_link}\")\n",
    "            found_links.append(full_link)\n",
    "\n",
    "    current += timedelta(days=1)\n",
    "    # sleep for 5 secons\n",
    "    time.sleep(5)  # To avoid overwhelming the server"
   ]
  },
  {
   "cell_type": "code",
   "execution_count": 16,
   "id": "7433fe79",
   "metadata": {},
   "outputs": [
    {
     "name": "stdout",
     "output_type": "stream",
     "text": [
      "Downloading data/raw_zip\\VOT_20250122154424.zip...\n",
      "✅ Downloaded: data/raw_zip\\VOT_20250122154424.zip\n",
      "Downloading data/raw_zip\\VOT_20250211202646.zip...\n",
      "✅ Downloaded: data/raw_zip\\VOT_20250211202646.zip\n",
      "Downloading data/raw_zip\\VOT_20250212154035.zip...\n",
      "✅ Downloaded: data/raw_zip\\VOT_20250212154035.zip\n",
      "Downloading data/raw_zip\\VOT_20250218194303.zip...\n",
      "✅ Downloaded: data/raw_zip\\VOT_20250218194303.zip\n",
      "Downloading data/raw_zip\\VOT_20250219135528.zip...\n",
      "✅ Downloaded: data/raw_zip\\VOT_20250219135528.zip\n",
      "Downloading data/raw_zip\\VOT_20250225201643.zip...\n",
      "✅ Downloaded: data/raw_zip\\VOT_20250225201643.zip\n",
      "Downloading data/raw_zip\\VOT_20250226151614.zip...\n",
      "✅ Downloaded: data/raw_zip\\VOT_20250226151614.zip\n",
      "File already exists: data/raw_zip\\VOT_20250311203731.zip\n",
      "File already exists: data/raw_zip\\VOT_20250313133849.zip\n",
      "File already exists: data/raw_zip\\VOT_20250318201319.zip\n",
      "File already exists: data/raw_zip\\VOT_20250320125659.zip\n",
      "File already exists: data/raw_zip\\VOT_20250325212229.zip\n",
      "File already exists: data/raw_zip\\VOT_20250326194433.zip\n",
      "Downloading data/raw_zip\\VOT_20250408213856.zip...\n",
      "✅ Downloaded: data/raw_zip\\VOT_20250408213856.zip\n",
      "Downloading data/raw_zip\\VOT_20250410155135.zip...\n",
      "✅ Downloaded: data/raw_zip\\VOT_20250410155135.zip\n",
      "All files downloaded successfully!\n"
     ]
    }
   ],
   "source": [
    "# Creates data/raw_zip folder if it doesn't exist\n",
    "import os\n",
    "os.makedirs(\"data/raw_zip\", exist_ok=True)\n",
    "# Iterate over the links and download the files if they don't exist\n",
    "for link in found_links:\n",
    "    filename = os.path.join(\"data/raw_zip\", os.path.basename(link))\n",
    "    if not os.path.exists(filename):\n",
    "        print(f\"Downloading {filename}...\")\n",
    "        response = requests.get(link, headers=headers, stream=True)\n",
    "        with open(filename, \"wb\") as f:\n",
    "            for chunk in response.iter_content(chunk_size=8192):\n",
    "                f.write(chunk)\n",
    "        print(f\"✅ Downloaded: {filename}\")\n",
    "    else:\n",
    "        print(f\"File already exists: {filename}\")\n",
    "# Notify completion\n",
    "print(\"All files downloaded successfully!\")"
   ]
  },
  {
   "cell_type": "code",
   "execution_count": 17,
   "id": "96b86677",
   "metadata": {},
   "outputs": [
    {
     "name": "stdout",
     "output_type": "stream",
     "text": [
      "Unzipped: data/raw_zip\\VOT_20250122154424.zip\n",
      "Unzipped: data/raw_zip\\VOT_20250211202646.zip\n",
      "Unzipped: data/raw_zip\\VOT_20250212154035.zip\n",
      "Unzipped: data/raw_zip\\VOT_20250218194303.zip\n",
      "Unzipped: data/raw_zip\\VOT_20250219135528.zip\n",
      "Unzipped: data/raw_zip\\VOT_20250225201643.zip\n",
      "Unzipped: data/raw_zip\\VOT_20250226151614.zip\n",
      "File already unzipped: data/raw_zip\\VOT_20250311203731.zip\n",
      "File already unzipped: data/raw_zip\\VOT_20250313133849.zip\n",
      "File already unzipped: data/raw_zip\\VOT_20250318201319.zip\n",
      "File already unzipped: data/raw_zip\\VOT_20250320125659.zip\n",
      "File already unzipped: data/raw_zip\\VOT_20250325212229.zip\n",
      "File already unzipped: data/raw_zip\\VOT_20250326194433.zip\n",
      "Unzipped: data/raw_zip\\VOT_20250408213856.zip\n",
      "Unzipped: data/raw_zip\\VOT_20250410155135.zip\n"
     ]
    }
   ],
   "source": [
    "# Unzip the donloaded files into data/raw_json folder\n",
    "import zipfile\n",
    "import glob\n",
    "os.makedirs(\"data/raw_json\", exist_ok=True)\n",
    "for zip_file in glob.glob(\"data/raw_zip/*.zip\"):\n",
    "        if os.path.exists(\"data/raw_json/\" + os.path.basename(zip_file)[:-4]):\n",
    "            print(f\"File already unzipped: {zip_file}\")\n",
    "            continue\n",
    "        with zipfile.ZipFile(zip_file, 'r') as zip_ref:\n",
    "            zip_ref.extractall(\"data/raw_json/\" + os.path.basename(zip_file)[:-4])\n",
    "        print(f\"Unzipped: {zip_file}\")"
   ]
  }
 ],
 "metadata": {
  "kernelspec": {
   "display_name": "Python 3",
   "language": "python",
   "name": "python3"
  },
  "language_info": {
   "codemirror_mode": {
    "name": "ipython",
    "version": 3
   },
   "file_extension": ".py",
   "mimetype": "text/x-python",
   "name": "python",
   "nbconvert_exporter": "python",
   "pygments_lexer": "ipython3",
   "version": "3.7.9"
  }
 },
 "nbformat": 4,
 "nbformat_minor": 5
}
