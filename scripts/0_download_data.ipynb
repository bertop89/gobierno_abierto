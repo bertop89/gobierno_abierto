{
 "cells": [
  {
   "cell_type": "code",
   "execution_count": 1,
   "id": "51fae1ad",
   "metadata": {},
   "outputs": [],
   "source": [
    "import requests\n",
    "from bs4 import BeautifulSoup\n",
    "from datetime import datetime, timedelta\n",
    "import time"
   ]
  },
  {
   "cell_type": "code",
   "execution_count": 3,
   "id": "20dcc319",
   "metadata": {},
   "outputs": [
    {
     "name": "stdout",
     "output_type": "stream",
     "text": [
      "✅ Found: https://www.congreso.es/webpublica/opendata/votaciones/Leg15/Sesion107/20250506/VOT_20250506211450.zip\n"
     ]
    }
   ],
   "source": [
    "\n",
    "base_url = \"https://www.congreso.es/es/opendata/votaciones\"\n",
    "legislatura = \"XV\"\n",
    "start_date = datetime(2025, 4, 17)\n",
    "end_date = datetime(2025, 5, 7)\n",
    "\n",
    "headers = {\n",
    "    \"User-Agent\": \"Mozilla/5.0\"  # To avoid basic bot blocks\n",
    "}\n",
    "\n",
    "found_links = []\n",
    "\n",
    "current = start_date\n",
    "while current <= end_date:\n",
    "    formatted_date = current.strftime(\"%d/%m/%Y\")\n",
    "    params = {\n",
    "        \"p_p_id\": \"votaciones\",\n",
    "        \"p_p_lifecycle\": \"0\",\n",
    "        \"p_p_state\": \"normal\",\n",
    "        \"p_p_mode\": \"view\",\n",
    "        \"targetLegislatura\": legislatura,\n",
    "        \"targetDate\": formatted_date\n",
    "    }\n",
    "\n",
    "    #print(f\"Checking {formatted_date}...\")\n",
    "    response = requests.get(base_url, params=params, headers=headers)\n",
    "    if response.status_code != 200:\n",
    "        print(f\"Error {response.status_code}\")\n",
    "        current += timedelta(days=1)\n",
    "        continue\n",
    "\n",
    "    soup = BeautifulSoup(response.text, \"html.parser\")\n",
    "    for a in soup.find_all(\"a\", href=True):\n",
    "        href = a[\"href\"]\n",
    "        if href.endswith(\".zip\"):\n",
    "            full_link = requests.compat.urljoin(base_url, href)\n",
    "            print(f\"✅ Found: {full_link}\")\n",
    "            found_links.append(full_link)\n",
    "\n",
    "    current += timedelta(days=1)\n",
    "    # sleep for 1 seconds\n",
    "    time.sleep(1)  # To avoid overwhelming the server"
   ]
  },
  {
   "cell_type": "code",
   "execution_count": 4,
   "id": "7433fe79",
   "metadata": {},
   "outputs": [
    {
     "name": "stdout",
     "output_type": "stream",
     "text": [
      "Downloading data/raw_zip\\VOT_20250506211450.zip...\n",
      "✅ Downloaded: data/raw_zip\\VOT_20250506211450.zip\n",
      "All files downloaded successfully!\n"
     ]
    }
   ],
   "source": [
    "# Creates data/raw_zip folder if it doesn't exist\n",
    "import os\n",
    "os.makedirs(\"data/raw_zip\", exist_ok=True)\n",
    "# Iterate over the links and download the files if they don't exist\n",
    "for link in found_links:\n",
    "    filename = os.path.join(\"data/raw_zip\", os.path.basename(link))\n",
    "    if not os.path.exists(filename):\n",
    "        print(f\"Downloading {filename}...\")\n",
    "        response = requests.get(link, headers=headers, stream=True)\n",
    "        with open(filename, \"wb\") as f:\n",
    "            for chunk in response.iter_content(chunk_size=8192):\n",
    "                f.write(chunk)\n",
    "        print(f\"✅ Downloaded: {filename}\")\n",
    "    else:\n",
    "        print(f\"File already exists: {filename}\")\n",
    "# Notify completion\n",
    "print(\"All files downloaded successfully!\")"
   ]
  },
  {
   "cell_type": "code",
   "execution_count": 5,
   "id": "96b86677",
   "metadata": {},
   "outputs": [
    {
     "name": "stdout",
     "output_type": "stream",
     "text": [
      "File already unzipped: data/raw_zip\\VOT_20230919152000.zip\n",
      "File already unzipped: data/raw_zip\\VOT_20230921120042.zip\n",
      "File already unzipped: data/raw_zip\\VOT_20230927125500.zip\n",
      "File already unzipped: data/raw_zip\\VOT_20230929125600.zip\n",
      "File already unzipped: data/raw_zip\\VOT_20231116125700.zip\n",
      "File already unzipped: data/raw_zip\\VOT_20231128183352.zip\n",
      "File already unzipped: data/raw_zip\\VOT_20231212230015.zip\n",
      "File already unzipped: data/raw_zip\\VOT_20231219233057.zip\n",
      "File already unzipped: data/raw_zip\\VOT_20240111114807.zip\n",
      "File already unzipped: data/raw_zip\\VOT_20240116165740.zip\n",
      "File already unzipped: data/raw_zip\\VOT_20240130183848.zip\n",
      "File already unzipped: data/raw_zip\\VOT_20240206213117.zip\n",
      "File already unzipped: data/raw_zip\\VOT_20240220203626.zip\n",
      "File already unzipped: data/raw_zip\\VOT_20240222110726.zip\n",
      "File already unzipped: data/raw_zip\\VOT_20240227205806.zip\n",
      "File already unzipped: data/raw_zip\\VOT_20240229115032.zip\n",
      "File already unzipped: data/raw_zip\\VOT_20240312204245.zip\n",
      "File already unzipped: data/raw_zip\\VOT_20240314123708.zip\n",
      "File already unzipped: data/raw_zip\\VOT_20240314135322.zip\n",
      "File already unzipped: data/raw_zip\\VOT_20240319201817.zip\n",
      "File already unzipped: data/raw_zip\\VOT_20240321105707.zip\n",
      "File already unzipped: data/raw_zip\\VOT_20240409210630.zip\n",
      "File already unzipped: data/raw_zip\\VOT_20240423213511.zip\n",
      "File already unzipped: data/raw_zip\\VOT_20240517122600.zip\n",
      "File already unzipped: data/raw_zip\\VOT_20240521203900.zip\n",
      "File already unzipped: data/raw_zip\\VOT_20240523140930.zip\n",
      "File already unzipped: data/raw_zip\\VOT_20240528203931.zip\n",
      "File already unzipped: data/raw_zip\\VOT_20240530115954.zip\n",
      "File already unzipped: data/raw_zip\\VOT_20240611203610.zip\n",
      "File already unzipped: data/raw_zip\\VOT_20240613125212.zip\n",
      "File already unzipped: data/raw_zip\\VOT_20240618211337.zip\n",
      "File already unzipped: data/raw_zip\\VOT_20240620132723.zip\n",
      "File already unzipped: data/raw_zip\\VOT_20240625212156.zip\n",
      "File already unzipped: data/raw_zip\\VOT_20240627130332.zip\n",
      "File already unzipped: data/raw_zip\\VOT_20240704135013.zip\n",
      "File already unzipped: data/raw_zip\\VOT_20240711150619.zip\n",
      "File already unzipped: data/raw_zip\\VOT_20240723221625.zip\n",
      "File already unzipped: data/raw_zip\\VOT_20240910210834.zip\n",
      "File already unzipped: data/raw_zip\\VOT_20240911151644.zip\n",
      "File already unzipped: data/raw_zip\\VOT_20240917204415.zip\n",
      "File already unzipped: data/raw_zip\\VOT_20240919102648.zip\n",
      "File already unzipped: data/raw_zip\\VOT_20240924203508.zip\n",
      "File already unzipped: data/raw_zip\\VOT_20240926161650.zip\n",
      "File already unzipped: data/raw_zip\\VOT_20241008205541.zip\n",
      "File already unzipped: data/raw_zip\\VOT_20241010194915.zip\n",
      "File already unzipped: data/raw_zip\\VOT_20241015205430.zip\n",
      "File already unzipped: data/raw_zip\\VOT_20241017130150.zip\n",
      "File already unzipped: data/raw_zip\\VOT_20241022211821.zip\n",
      "File already unzipped: data/raw_zip\\VOT_20241023184330.zip\n",
      "File already unzipped: data/raw_zip\\VOT_20241029212329.zip\n",
      "File already unzipped: data/raw_zip\\VOT_20241030123349.zip\n",
      "File already unzipped: data/raw_zip\\VOT_20241112152833.zip\n",
      "File already unzipped: data/raw_zip\\VOT_20241114151004.zip\n",
      "File already unzipped: data/raw_zip\\VOT_20241119211706.zip\n",
      "File already unzipped: data/raw_zip\\VOT_20241121173754.zip\n",
      "File already unzipped: data/raw_zip\\VOT_20241126173406.zip\n",
      "File already unzipped: data/raw_zip\\VOT_20241128143701.zip\n",
      "File already unzipped: data/raw_zip\\VOT_20241210202030.zip\n",
      "File already unzipped: data/raw_zip\\VOT_20241212130535.zip\n",
      "File already unzipped: data/raw_zip\\VOT_20241217205718.zip\n",
      "File already unzipped: data/raw_zip\\VOT_20241219162659.zip\n",
      "File already unzipped: data/raw_zip\\VOT_20250122154424.zip\n",
      "File already unzipped: data/raw_zip\\VOT_20250211202646.zip\n",
      "File already unzipped: data/raw_zip\\VOT_20250212154035.zip\n",
      "File already unzipped: data/raw_zip\\VOT_20250218194303.zip\n",
      "File already unzipped: data/raw_zip\\VOT_20250219135528.zip\n",
      "File already unzipped: data/raw_zip\\VOT_20250225201643.zip\n",
      "File already unzipped: data/raw_zip\\VOT_20250226151614.zip\n",
      "File already unzipped: data/raw_zip\\VOT_20250311203731.zip\n",
      "File already unzipped: data/raw_zip\\VOT_20250313133849.zip\n",
      "File already unzipped: data/raw_zip\\VOT_20250318201319.zip\n",
      "File already unzipped: data/raw_zip\\VOT_20250320125659.zip\n",
      "File already unzipped: data/raw_zip\\VOT_20250325212229.zip\n",
      "File already unzipped: data/raw_zip\\VOT_20250326194433.zip\n",
      "File already unzipped: data/raw_zip\\VOT_20250408213856.zip\n",
      "File already unzipped: data/raw_zip\\VOT_20250410155135.zip\n",
      "Unzipped: data/raw_zip\\VOT_20250506211450.zip\n"
     ]
    }
   ],
   "source": [
    "# Unzip the donloaded files into data/raw_json folder\n",
    "import zipfile\n",
    "import glob\n",
    "os.makedirs(\"data/raw_json\", exist_ok=True)\n",
    "for zip_file in glob.glob(\"data/raw_zip/*.zip\"):\n",
    "        if os.path.exists(\"data/raw_json/\" + os.path.basename(zip_file)[:-4]):\n",
    "            print(f\"File already unzipped: {zip_file}\")\n",
    "            continue\n",
    "        with zipfile.ZipFile(zip_file, 'r') as zip_ref:\n",
    "            zip_ref.extractall(\"data/raw_json/\" + os.path.basename(zip_file)[:-4])\n",
    "        print(f\"Unzipped: {zip_file}\")"
   ]
  }
 ],
 "metadata": {
  "kernelspec": {
   "display_name": "Python 3",
   "language": "python",
   "name": "python3"
  },
  "language_info": {
   "codemirror_mode": {
    "name": "ipython",
    "version": 3
   },
   "file_extension": ".py",
   "mimetype": "text/x-python",
   "name": "python",
   "nbconvert_exporter": "python",
   "pygments_lexer": "ipython3",
   "version": "3.7.9"
  }
 },
 "nbformat": 4,
 "nbformat_minor": 5
}
