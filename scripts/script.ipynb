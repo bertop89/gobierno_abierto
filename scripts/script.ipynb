{
 "cells": [
  {
   "cell_type": "code",
   "execution_count": 1,
   "id": "971f757f",
   "metadata": {},
   "outputs": [],
   "source": [
    "import pandas as pd\n",
    "import glob\n",
    "import json"
   ]
  },
  {
   "cell_type": "code",
   "execution_count": 4,
   "id": "5370beba",
   "metadata": {},
   "outputs": [],
   "source": [
    "json_folder = glob.glob(\"data/raw_json/*/*.json\")"
   ]
  },
  {
   "cell_type": "code",
   "execution_count": 6,
   "id": "03535a06",
   "metadata": {},
   "outputs": [],
   "source": [
    "sesiones = []\n",
    "votaciones = []\n",
    "grupos_parlamentarios = {}\n",
    "diputados = {}\n",
    "votos = []\n",
    "grupo_id_counter = 0\n",
    "diputado_id_counter = 0"
   ]
  },
  {
   "cell_type": "code",
   "execution_count": 7,
   "id": "a80826ae",
   "metadata": {},
   "outputs": [],
   "source": [
    "for json_file in json_folder:\n",
    "    with open(json_file, \"r\", encoding=\"utf-8\") as json_file:\n",
    "        # Load the JSON file\n",
    "        # Assuming the JSON file contains a list of dictionaries\n",
    "        # If the structure is different, adjust accordingly\n",
    "        # For example, if it's a single dictionary, you can just load it directly\n",
    "        #\n",
    "        data = json.load(json_file)\n",
    "        # Extract session data\n",
    "        sesion_id = data[\"informacion\"][\"sesion\"]\n",
    "        if sesion_id not in [s[\"id_sesion\"] for s in sesiones]:\n",
    "            sesiones.append({\n",
    "                \"id_sesion\": sesion_id,\n",
    "                \"fecha\": data[\"informacion\"][\"fecha\"],\n",
    "                \"numero_sesion\": data[\"informacion\"][\"sesion\"]\n",
    "            })\n",
    "\n",
    "        # Extract votacion data\n",
    "        votacion_id = len(votaciones) + 1\n",
    "        votaciones.append({\n",
    "            \"id_votacion\": votacion_id,\n",
    "            \"id_sesion\": sesion_id,\n",
    "            \"numero_votacion\": data[\"informacion\"][\"numeroVotacion\"],\n",
    "            \"titulo\": data[\"informacion\"][\"titulo\"],\n",
    "            \"texto_expediente\": data[\"informacion\"][\"textoExpediente\"],\n",
    "            \"presentes\": data[\"totales\"][\"presentes\"],\n",
    "            \"a_favor\": data[\"totales\"][\"afavor\"],\n",
    "            \"en_contra\": data[\"totales\"][\"enContra\"],\n",
    "            \"abstenciones\": data[\"totales\"][\"abstenciones\"],\n",
    "            \"no_votan\": data[\"totales\"][\"noVotan\"]\n",
    "        })\n",
    "\n",
    "        # Extract grupos parlamentarios and diputados\n",
    "        for votacion in data[\"votaciones\"]:\n",
    "            grupo = votacion.get(\"grupo\", \"Unknown\")\n",
    "            if grupo not in grupos_parlamentarios:\n",
    "                grupos_parlamentarios[grupo] = grupo_id_counter\n",
    "                grupo_id_counter += 1\n",
    "\n",
    "            diputado = votacion.get(\"diputado\", \"Unknown\")\n",
    "            if diputado not in diputados:\n",
    "                diputados[diputado] = {\n",
    "                    \"id_diputado\": diputado_id_counter,\n",
    "                    \"nombre\": diputado,\n",
    "                    \"id_grupo\": grupos_parlamentarios[grupo]\n",
    "                }\n",
    "                diputado_id_counter += 1\n",
    "\n",
    "            # Extract votos\n",
    "            votos.append({\n",
    "                \"id_voto\": len(votos) + 1,\n",
    "                \"id_votacion\": votacion_id,\n",
    "                \"id_diputado\": diputados[diputado][\"id_diputado\"],\n",
    "                \"asiento\": votacion.get(\"asiento\", \"\"),\n",
    "                \"voto\": votacion[\"voto\"]\n",
    "            })\n",
    "\n",
    "# Convert data to DataFrames\n",
    "sesiones_df = pd.DataFrame(sesiones)\n",
    "votaciones_df = pd.DataFrame(votaciones)\n",
    "grupos_parlamentarios_df = pd.DataFrame([\n",
    "{\"id_grupo\": id_grupo, \"nombre\": nombre}\n",
    "for nombre, id_grupo in grupos_parlamentarios.items()\n",
    "])\n",
    "diputados_df = pd.DataFrame(diputados.values())\n",
    "votos_df = pd.DataFrame(votos)"
   ]
  },
  {
   "cell_type": "code",
   "execution_count": 8,
   "id": "0f870ea8",
   "metadata": {},
   "outputs": [],
   "source": [
    "# format date of sesiones_df to YYYY-MM-DD\n",
    "sesiones_df[\"fecha\"] = pd.to_datetime(sesiones_df[\"fecha\"], format=\"%d/%m/%Y\").dt.strftime(\"%Y-%m-%d\")"
   ]
  },
  {
   "cell_type": "code",
   "execution_count": 10,
   "id": "cf988eca",
   "metadata": {},
   "outputs": [],
   "source": [
    "# Save DataFrames to CSV files in data/processed folder (create if not exists)\n",
    "import os\n",
    "os.makedirs(\"data/processed\", exist_ok=True)\n",
    "sesiones_df.to_csv(\"data/processed/sesiones.csv\", index=False, encoding=\"utf-8\")\n",
    "votaciones_df.to_csv(\"data/processed/votaciones.csv\", index=False, encoding=\"utf-8\")\n",
    "grupos_parlamentarios_df.to_csv(\"data/processed/grupos_parlamentarios.csv\", index=False, encoding=\"utf-8\")\n",
    "diputados_df.to_csv(\"data/processed/diputados.csv\", index=False, encoding=\"utf-8\")\n",
    "votos_df.to_csv(\"data/processed/votos.csv\", index=False, encoding=\"utf-8\")"
   ]
  }
 ],
 "metadata": {
  "kernelspec": {
   "display_name": "Python 3",
   "language": "python",
   "name": "python3"
  },
  "language_info": {
   "codemirror_mode": {
    "name": "ipython",
    "version": 3
   },
   "file_extension": ".py",
   "mimetype": "text/x-python",
   "name": "python",
   "nbconvert_exporter": "python",
   "pygments_lexer": "ipython3",
   "version": "3.7.9"
  }
 },
 "nbformat": 4,
 "nbformat_minor": 5
}
